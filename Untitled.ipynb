{
 "cells": [
  {
   "cell_type": "code",
   "execution_count": 3,
   "metadata": {},
   "outputs": [
    {
     "name": "stdout",
     "output_type": "stream",
     "text": [
      "             bookTitle  8  9  14  16  17  23  26  32  39  ...   1108  1111  \\\n",
      "0       10 Lb. Penalty  0  0   0   0   0   0   0   0   0  ...      0     0   \n",
      "1   16 Lighthouse Road  0  0   0   0   0   0   0   0   0  ...      0     0   \n",
      "2                 1984  0  0   0   0   0   0   0   0   0  ...      0     0   \n",
      "3  1st to Die: A Novel  0  0   0   0   0   0   0   0   0  ...      0     0   \n",
      "4    2010: Odyssey Two  0  0   0   0   0   0   0   0   0  ...      0     0   \n",
      "\n",
      "   1113  1116  1118  1129  1138  1140  1155  1161  \n",
      "0     0     0     0     0     0     0     0     0  \n",
      "1     0     0     0     0     0     0     0     0  \n",
      "2     0     0     0     0     0     0     0     0  \n",
      "3     0     0     0     0     0     0     0     0  \n",
      "4     0     0     0     0     0     0     0     0  \n",
      "\n",
      "[5 rows x 167 columns]\n"
     ]
    }
   ],
   "source": [
    "from flask import Flask, jsonify, request,render_template,url_for,request\n",
    "import pandas as pd\n",
    "from flask_bootstrap import Bootstrap \n",
    "import os\n",
    "from sklearn.externals import joblib\n",
    "\n",
    "\n",
    "\n",
    "us_canada_user_rating_pivot = pd.read_csv('/home/siddanath/python_project/recommender_api/test_csv.csv')\n",
    "print(us_canada_user_rating_pivot.head())"
   ]
  },
  {
   "cell_type": "code",
   "execution_count": 5,
   "metadata": {},
   "outputs": [
    {
     "ename": "SyntaxError",
     "evalue": "invalid syntax (<ipython-input-5-3ec6ca36da7d>, line 1)",
     "output_type": "error",
     "traceback": [
      "\u001b[0;36m  File \u001b[0;32m\"<ipython-input-5-3ec6ca36da7d>\"\u001b[0;36m, line \u001b[0;32m1\u001b[0m\n\u001b[0;31m    us_canada_user_rating_pivot.loc[10 Lb. Penalty]\u001b[0m\n\u001b[0m                                        ^\u001b[0m\n\u001b[0;31mSyntaxError\u001b[0m\u001b[0;31m:\u001b[0m invalid syntax\n"
     ]
    }
   ],
   "source": [
    "us_canada_user_rating_pivot.loc[\"10 Lb. Penalty\"]"
   ]
  },
  {
   "cell_type": "code",
   "execution_count": null,
   "metadata": {},
   "outputs": [],
   "source": []
  }
 ],
 "metadata": {
  "kernelspec": {
   "display_name": "Python 3",
   "language": "python",
   "name": "python3"
  },
  "language_info": {
   "codemirror_mode": {
    "name": "ipython",
    "version": 3
   },
   "file_extension": ".py",
   "mimetype": "text/x-python",
   "name": "python",
   "nbconvert_exporter": "python",
   "pygments_lexer": "ipython3",
   "version": "3.6.5"
  }
 },
 "nbformat": 4,
 "nbformat_minor": 2
}
